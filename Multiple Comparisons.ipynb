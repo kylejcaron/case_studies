{
 "cells": [
  {
   "cell_type": "code",
   "execution_count": 3,
   "metadata": {},
   "outputs": [],
   "source": [
    "import pandas as pd\n",
    "import numpy as np\n",
    "import matplotlib.pyplot as plt\n",
    "import seaborn as sns\n",
    "\n",
    "import statsmodels.api as sm"
   ]
  },
  {
   "cell_type": "markdown",
   "metadata": {},
   "source": [
    "# Multiple Comparisons Problem\n",
    "\n",
    "The multiple comparisons problem occurs when... making multiple comparisons. Pretty much any time you're working with multiple p-values.\n",
    "\n",
    "The more comparisons you make, the more likely you are to run into a false positive result where you see a p-value that is \"statistically significant\".\n",
    "\n",
    "Let's say you set a test with $alpha = 0.05$, meaning anytime your p-value is less than alpha, you call it statistically significant. However, instead of running the test on just 1 metric, you're looking at 2 metrics. What's the probability you would see atleast 1 false positive result even if none existed?\n",
    "\n",
    "To answer this question it's useful to understand the definition of a frequentist __p-value__: It's the probability of obtaining results atleast as extreme as the observed results __given that the null hypothesis is true__.\n",
    "\n",
    "Using this definition, its easy to see that if the null hypothesis were true and $alpha = 0.05$, then 5% of the time the data generating process from the null hypothesis would result in a statistically significant result by random chance alone.\n",
    "\n",
    "We can further quantify this false positive rate with a simple formula\n",
    "\n",
    "$$\n",
    "\\text{FPR} = (1-\\alpha)^n\n",
    "$$\n",
    "\n",
    "where $n$ is the number of metrics you are evaluating. The simulations below will confirm this"
   ]
  },
  {
   "cell_type": "markdown",
   "metadata": {},
   "source": [
    "# Does the multiple comparisons problem apply to the p values in a regression model?\n",
    "\n",
    "Of course it does. And its a more elegant way to illustrate the problem than running 20 t-tests. Let's simulate it out below"
   ]
  },
  {
   "cell_type": "code",
   "execution_count": 2,
   "metadata": {},
   "outputs": [],
   "source": [
    "n_metrics = 100\n",
    "N = 10000\n",
    "X = np.array([np.random.normal(0,1,size=N) for _ in range(n_metrics)])\n",
    "y = np.random.normal(0,1, size=N) "
   ]
  },
  {
   "cell_type": "code",
   "execution_count": 4,
   "metadata": {
    "scrolled": false
   },
   "outputs": [
    {
     "data": {
      "text/plain": [
       "Text(0, 0.5, 'p-value')"
      ]
     },
     "execution_count": 4,
     "metadata": {},
     "output_type": "execute_result"
    },
    {
     "data": {
      "image/png": "[encoded data removed]",
      "text/plain": [
       "<Figure size 432x288 with 1 Axes>"
      ]
     },
     "metadata": {
      "needs_background": "light"
     },
     "output_type": "display_data"
    }
   ],
   "source": [
    "model = sm.OLS(y, sm.add_constant(X.T)).fit()\n",
    "plt.scatter(range(n_metrics+1), model.pvalues )\n",
    "sigs = model.pvalues[model.pvalues < 0.05]\n",
    "sig_idxs = np.where(model.pvalues < 0.05)[0]\n",
    "plt.scatter(sig_idxs, sigs,color=\"r\" )\n",
    "plt.axhline(0.05, color=\"r\", ls=\"--\", label=\"significant\")\n",
    "plt.legend()\n",
    "plt.xlabel(\"Covariate #\")\n",
    "plt.ylabel(\"p-value\")"
   ]
  },
  {
   "cell_type": "markdown",
   "metadata": {},
   "source": [
    "# How likely are we see a false positive signal given we look at 20 metrics?\n",
    "To do this we'll fit a regression on 20 metrics without an effect and test if we see 1 or more pvalues less than alpha = 0.05. We'll repeat this simulation 1000 times to estimate the probability it could occur"
   ]
  },
  {
   "cell_type": "code",
   "execution_count": 5,
   "metadata": {},
   "outputs": [],
   "source": [
    "\n",
    "n_metrics = 20\n",
    "N = 10000\n",
    "\n",
    "res = []\n",
    "for _ in range(1000):\n",
    "    X = np.array([np.random.normal(0,1,size=N) for _ in range(n_metrics)])\n",
    "    y = np.random.normal(0,1, size=N) \n",
    "\n",
    "    model = sm.OLS(y, sm.add_constant(X.T)).fit()\n",
    "    pvals = model.pvalues[1:] # ignore the coefficient on the intercept\n",
    "    res.append( (pvals < 0.05).sum() >= 1 )  \n",
    "   "
   ]
  },
  {
   "cell_type": "code",
   "execution_count": 10,
   "metadata": {},
   "outputs": [
    {
     "data": {
      "text/plain": [
       "0.642"
      ]
     },
     "execution_count": 10,
     "metadata": {},
     "output_type": "execute_result"
    }
   ],
   "source": [
    "np.mean(res)"
   ]
  },
  {
   "cell_type": "code",
   "execution_count": 6,
   "metadata": {},
   "outputs": [
    {
     "data": {
      "text/plain": [
       "0.6415140775914581"
      ]
     },
     "execution_count": 6,
     "metadata": {},
     "output_type": "execute_result"
    }
   ],
   "source": [
    "1 - 0.95**(20)"
   ]
  },
  {
   "cell_type": "markdown",
   "metadata": {},
   "source": [
    "### How about 2 metrics?"
   ]
  },
  {
   "cell_type": "code",
   "execution_count": 17,
   "metadata": {},
   "outputs": [
    {
     "data": {
      "text/plain": [
       "0.09750000000000003"
      ]
     },
     "execution_count": 17,
     "metadata": {},
     "output_type": "execute_result"
    }
   ],
   "source": [
    "1 - 0.95**(2)"
   ]
  },
  {
   "cell_type": "code",
   "execution_count": 18,
   "metadata": {},
   "outputs": [
    {
     "data": {
      "text/plain": [
       "0.107"
      ]
     },
     "execution_count": 18,
     "metadata": {},
     "output_type": "execute_result"
    }
   ],
   "source": [
    "\n",
    "n_metrics = 2\n",
    "N = 10000\n",
    "\n",
    "res = []\n",
    "for _ in range(1000):\n",
    "    X = np.array([np.random.normal(0,1,size=N) for _ in range(n_metrics)])\n",
    "    y = np.random.normal(0,1, size=N) \n",
    "\n",
    "    model = sm.OLS(y, sm.add_constant(X.T)).fit()\n",
    "    pvals = model.pvalues[1:] # ignore the coefficient on the intercept\n",
    "    res.append( (pvals < 0.05).sum() >= 1 )  \n",
    "\n",
    "np.mean(res)"
   ]
  },
  {
   "cell_type": "markdown",
   "metadata": {},
   "source": [
    "# Can we fix this?\n",
    "\n",
    "A common method to control the false positive rate is to use the Benjamini-Hochberg procedure. You may have heard of a bonferroni correction, which is more popular, however it tends to reduce the power to detect an effect far more than the Benjamini-Hochberg procedure.\n",
    "\n",
    "The code below shows how the Benjamini-Hochberg procedure controls the false positive rate"
   ]
  },
  {
   "cell_type": "code",
   "execution_count": 33,
   "metadata": {},
   "outputs": [
    {
     "data": {
      "text/plain": [
       "(0.634, 0.051)"
      ]
     },
     "execution_count": 33,
     "metadata": {},
     "output_type": "execute_result"
    }
   ],
   "source": [
    "n_metrics = 20\n",
    "N = 10000\n",
    "\n",
    "res = []\n",
    "adj_res = []\n",
    "for _ in range(1000):\n",
    "    X = np.array([np.random.normal(0,1,size=N) for _ in range(n_metrics)])\n",
    "    y = np.random.normal(0,1, size=N) \n",
    "\n",
    "    model = sm.OLS(y, sm.add_constant(X.T)).fit()\n",
    "    \n",
    "    pvals = model.pvalues[1:] # ignore the coefficient on the intercept\n",
    "    _,adj_pvals,_,_ = sm.stats.multipletests(pvals, method=\"fdr_bh\")\n",
    "    \n",
    "    res.append( (pvals < 0.05).sum() >= 1 )  \n",
    "    adj_res.append( (adj_pvals < 0.05).sum() >= 1 )  \n",
    "\n",
    "np.mean(res), np.mean(adj_res)"
   ]
  },
  {
   "cell_type": "markdown",
   "metadata": {},
   "source": [
    "Amazing, we reduced the false positive rate from 0.634 back down to 0.05. It's important to note that this comes at a price - the price you're paying is a reduced power to detect a true effect that may exist. But it does a fantastic job at controlling false positives\n",
    "\n",
    "[TODO: add more details on benjamini hochberg correction later]"
   ]
  },
  {
   "cell_type": "markdown",
   "metadata": {},
   "source": [
    "## What happens when we add in a few real effects? Can the Benjamini Hochberg procedure detect them? And how does it compare to the Bonferroni correction "
   ]
  },
  {
   "cell_type": "code",
   "execution_count": null,
   "metadata": {},
   "outputs": [],
   "source": []
  }
 ],
 "metadata": {
  "kernelspec": {
   "display_name": "Python 3",
   "language": "python",
   "name": "python3"
  },
  "language_info": {
   "codemirror_mode": {
    "name": "ipython",
    "version": 3
   },
   "file_extension": ".py",
   "mimetype": "text/x-python",
   "name": "python",
   "nbconvert_exporter": "python",
   "pygments_lexer": "ipython3",
   "version": "3.7.5"
  }
 },
 "nbformat": 4,
 "nbformat_minor": 2
}
