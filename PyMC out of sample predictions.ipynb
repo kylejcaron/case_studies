{
 "cells": [
  {
   "cell_type": "markdown",
   "id": "149de8b6",
   "metadata": {},
   "source": [
    "# Introduction\n",
    "\n",
    "A cool thing about hierarchical models is that its easy to predict out of sample - i.e. if you want to make a prediction on a new zipcode, just sample from the state's distribution (composed of the state average and variance across zip codes in that state)\n",
    "\n",
    "In pymc3, it's somewhat easy to accomplish this, but not as straightforward as we'd hope. This blog post will show a trick that lets you easily predict out of sample, and will reduce some of the overhead that comes from writing alot of custom prediction functions"
   ]
  },
  {
   "cell_type": "code",
   "execution_count": 1,
   "id": "06164097",
   "metadata": {},
   "outputs": [],
   "source": [
    "import numpy as np\n",
    "import pandas as pd\n",
    "import matplotlib.pyplot as plt \n",
    "import seaborn as sns\n",
    "import pymc3 as pm\n",
    "import arviz as az\n",
    "SEED = 99"
   ]
  },
  {
   "cell_type": "markdown",
   "id": "7edbb346",
   "metadata": {},
   "source": [
    "# Simulating data\n",
    "We'll simulate a 2 level hierarchical model - for interpretability, we'll set it up as a state > zipcode model"
   ]
  },
  {
   "cell_type": "code",
   "execution_count": 2,
   "id": "072281cc",
   "metadata": {},
   "outputs": [],
   "source": [
    "def gen_zipcode(size=1):\n",
    "    '''Ugly way to generate fake zip codes'''\n",
    "    codes = []\n",
    "    for _ in range(int(2*size) + 10 ):\n",
    "        code = ''\n",
    "        for _ in range(5):\n",
    "            code += np.random.choice(range(9)).astype(str)\n",
    "        codes.append(code)\n",
    "        \n",
    "    return np.array(list(set(codes))[:size])\n"
   ]
  },
  {
   "cell_type": "code",
   "execution_count": 3,
   "id": "06c0a151",
   "metadata": {},
   "outputs": [],
   "source": [
    "# Simulate data\n",
    "np.random.seed(SEED)\n",
    "N_states = 10\n",
    "N_zips_per_state = 15\n",
    "\n",
    "# Coefficients\n",
    "mu_country_true = 0\n",
    "sig_state_true = 5\n",
    "mu_state_true = pm.Normal.dist(mu_country_true, sig_state_true)\n",
    "states_true = mu_state_true.random(size=N_states)\n",
    "\n",
    "sig_zip_true = 3\n",
    "mu_zipcode_true = pm.Normal.dist(states_true, sig_zip_true)\n",
    "zipcode_true = mu_zipcode_true.random(size=N_zips_per_state)\n",
    "\n",
    "# Indexes for observed dataa\n",
    "state_idx = np.random.choice(np.arange(N_states), size=1000)\n",
    "zip_idx = np.random.choice(np.arange(N_zips_per_state), size=1000)\n",
    "\n",
    "# observed data\n",
    "sig_obs_true = 2\n",
    "y_true = np.random.normal( zipcode_true[zip_idx, state_idx], sig_obs_true)\n",
    "\n",
    "# Labels\n",
    "states = np.sort(np.array([\"CA\", \"TX\", \"FL\", \"GA\", \"AL\", \"ME\", \"MA\", \"CT\", \"NY\", \"NJ\"]))\n",
    "zip_codes = np.sort(gen_zipcode(N_states*N_zips_per_state))"
   ]
  },
  {
   "cell_type": "code",
   "execution_count": 4,
   "id": "cfd6f4c5",
   "metadata": {},
   "outputs": [],
   "source": [
    "# Change zipcode index to 0-1000 instead of 0-100 by \n",
    "# making these fake zipcodes nested within states\n",
    "zip_idx_adj = (pd.Series( state_idx*N_zips_per_state + zip_idx ).astype(\"str\") \n",
    "              ).astype(int).values"
   ]
  },
  {
   "cell_type": "code",
   "execution_count": 5,
   "id": "096b1fe2",
   "metadata": {},
   "outputs": [
    {
     "data": {
      "text/html": [
       "<div>\n",
       "<style scoped>\n",
       "    .dataframe tbody tr th:only-of-type {\n",
       "        vertical-align: middle;\n",
       "    }\n",
       "\n",
       "    .dataframe tbody tr th {\n",
       "        vertical-align: top;\n",
       "    }\n",
       "\n",
       "    .dataframe thead th {\n",
       "        text-align: right;\n",
       "    }\n",
       "</style>\n",
       "<table border=\"1\" class=\"dataframe\">\n",
       "  <thead>\n",
       "    <tr style=\"text-align: right;\">\n",
       "      <th></th>\n",
       "      <th>y</th>\n",
       "      <th>state</th>\n",
       "      <th>zipcode</th>\n",
       "    </tr>\n",
       "  </thead>\n",
       "  <tbody>\n",
       "    <tr>\n",
       "      <th>0</th>\n",
       "      <td>6.953332</td>\n",
       "      <td>ME</td>\n",
       "      <td>61756</td>\n",
       "    </tr>\n",
       "    <tr>\n",
       "      <th>1</th>\n",
       "      <td>8.789451</td>\n",
       "      <td>FL</td>\n",
       "      <td>28766</td>\n",
       "    </tr>\n",
       "    <tr>\n",
       "      <th>2</th>\n",
       "      <td>6.810024</td>\n",
       "      <td>FL</td>\n",
       "      <td>26505</td>\n",
       "    </tr>\n",
       "    <tr>\n",
       "      <th>3</th>\n",
       "      <td>7.922506</td>\n",
       "      <td>ME</td>\n",
       "      <td>63467</td>\n",
       "    </tr>\n",
       "    <tr>\n",
       "      <th>4</th>\n",
       "      <td>13.250428</td>\n",
       "      <td>CA</td>\n",
       "      <td>11450</td>\n",
       "    </tr>\n",
       "    <tr>\n",
       "      <th>5</th>\n",
       "      <td>-6.689709</td>\n",
       "      <td>AL</td>\n",
       "      <td>04463</td>\n",
       "    </tr>\n",
       "    <tr>\n",
       "      <th>6</th>\n",
       "      <td>-7.306024</td>\n",
       "      <td>TX</td>\n",
       "      <td>85822</td>\n",
       "    </tr>\n",
       "    <tr>\n",
       "      <th>7</th>\n",
       "      <td>-0.031004</td>\n",
       "      <td>CT</td>\n",
       "      <td>23215</td>\n",
       "    </tr>\n",
       "    <tr>\n",
       "      <th>8</th>\n",
       "      <td>0.307124</td>\n",
       "      <td>GA</td>\n",
       "      <td>40461</td>\n",
       "    </tr>\n",
       "    <tr>\n",
       "      <th>9</th>\n",
       "      <td>0.175902</td>\n",
       "      <td>GA</td>\n",
       "      <td>35720</td>\n",
       "    </tr>\n",
       "  </tbody>\n",
       "</table>\n",
       "</div>"
      ],
      "text/plain": [
       "           y state zipcode\n",
       "0   6.953332    ME   61756\n",
       "1   8.789451    FL   28766\n",
       "2   6.810024    FL   26505\n",
       "3   7.922506    ME   63467\n",
       "4  13.250428    CA   11450\n",
       "5  -6.689709    AL   04463\n",
       "6  -7.306024    TX   85822\n",
       "7  -0.031004    CT   23215\n",
       "8   0.307124    GA   40461\n",
       "9   0.175902    GA   35720"
      ]
     },
     "execution_count": 5,
     "metadata": {},
     "output_type": "execute_result"
    }
   ],
   "source": [
    "# organizing the data\n",
    "df = (\n",
    "    pd.DataFrame({\n",
    "        \"y\":y_true,\n",
    "        \"state\":states[state_idx],\n",
    "        \"zipcode\":zip_codes[zip_idx_adj]\n",
    "    })\n",
    ")\n",
    "\n",
    "df.head(10)"
   ]
  },
  {
   "cell_type": "markdown",
   "id": "4f08df7c",
   "metadata": {},
   "source": [
    "## Using categorical variables for convenience\n",
    "\n",
    "Categorical variables are a somewhat new feature of pandas - they can store categories that aren't in the observed data, and are an easy replacement for `pd.factorize()`\n",
    "\n",
    "We can use these to trick pymc into thinking there's a category with no observed data, and pymc ends up assigning the global distribution to that unobserved category, which we can simply reference in the future for any time we want to make a prediction on out of sample data"
   ]
  },
  {
   "cell_type": "code",
   "execution_count": 6,
   "id": "d9011637",
   "metadata": {},
   "outputs": [
    {
     "data": {
      "text/html": [
       "<div>\n",
       "<style scoped>\n",
       "    .dataframe tbody tr th:only-of-type {\n",
       "        vertical-align: middle;\n",
       "    }\n",
       "\n",
       "    .dataframe tbody tr th {\n",
       "        vertical-align: top;\n",
       "    }\n",
       "\n",
       "    .dataframe thead th {\n",
       "        text-align: right;\n",
       "    }\n",
       "</style>\n",
       "<table border=\"1\" class=\"dataframe\">\n",
       "  <thead>\n",
       "    <tr style=\"text-align: right;\">\n",
       "      <th></th>\n",
       "      <th>y</th>\n",
       "      <th>state</th>\n",
       "      <th>zipcode</th>\n",
       "    </tr>\n",
       "  </thead>\n",
       "  <tbody>\n",
       "    <tr>\n",
       "      <th>0</th>\n",
       "      <td>6.953332</td>\n",
       "      <td>ME</td>\n",
       "      <td>61756</td>\n",
       "    </tr>\n",
       "    <tr>\n",
       "      <th>1</th>\n",
       "      <td>8.789451</td>\n",
       "      <td>FL</td>\n",
       "      <td>28766</td>\n",
       "    </tr>\n",
       "    <tr>\n",
       "      <th>2</th>\n",
       "      <td>6.810024</td>\n",
       "      <td>FL</td>\n",
       "      <td>26505</td>\n",
       "    </tr>\n",
       "    <tr>\n",
       "      <th>3</th>\n",
       "      <td>7.922506</td>\n",
       "      <td>ME</td>\n",
       "      <td>63467</td>\n",
       "    </tr>\n",
       "    <tr>\n",
       "      <th>4</th>\n",
       "      <td>13.250428</td>\n",
       "      <td>CA</td>\n",
       "      <td>11450</td>\n",
       "    </tr>\n",
       "  </tbody>\n",
       "</table>\n",
       "</div>"
      ],
      "text/plain": [
       "           y state zipcode\n",
       "0   6.953332    ME   61756\n",
       "1   8.789451    FL   28766\n",
       "2   6.810024    FL   26505\n",
       "3   7.922506    ME   63467\n",
       "4  13.250428    CA   11450"
      ]
     },
     "execution_count": 6,
     "metadata": {},
     "output_type": "execute_result"
    }
   ],
   "source": [
    "# Convert to categorical and add a `global` category\n",
    "df = df.assign(state = pd.Categorical(df.state).add_categories(\"out_of_sample\"))\\\n",
    "    .assign(zipcode = pd.Categorical(df.zipcode).add_categories(\"out_of_sample\"))\n",
    "\n",
    "df.head()"
   ]
  },
  {
   "cell_type": "markdown",
   "id": "d1e72fe3",
   "metadata": {},
   "source": [
    "# Fitting the model"
   ]
  },
  {
   "cell_type": "markdown",
   "id": "602dbd16",
   "metadata": {},
   "source": [
    "We'll use the `codes` from the categorical columns to index our model coefficients, and we'll use the `categories` as coordinates for the model to map names to"
   ]
  },
  {
   "cell_type": "code",
   "execution_count": 7,
   "id": "f5810711",
   "metadata": {},
   "outputs": [
    {
     "data": {
      "text/plain": [
       "Index(['AL', 'CA', 'CT', 'FL', 'GA', 'MA', 'ME', 'NJ', 'NY', 'TX',\n",
       "       'out_of_sample'],\n",
       "      dtype='object')"
      ]
     },
     "execution_count": 7,
     "metadata": {},
     "output_type": "execute_result"
    }
   ],
   "source": [
    "coords={\n",
    "    \"state\":df.state.cat.categories,\n",
    "    \"zipcode\":df.zipcode.cat.categories\n",
    "}\n",
    "\n",
    "# Peak at state labels\n",
    "coords[\"state\"]"
   ]
  },
  {
   "cell_type": "code",
   "execution_count": 8,
   "id": "f1069718",
   "metadata": {},
   "outputs": [],
   "source": [
    "# # This model could have sampled more efficiently, commenting it out\n",
    "\n",
    "# with pm.Model(coords=coords) as model:\n",
    "    \n",
    "#     # Hyperpriors\n",
    "#     mu_country = pm.Normal(\"mu_country\", 0, 3)\n",
    "#     sig_country = pm.Exponential(\"sig_country\", 2.5)\n",
    "    \n",
    "#     # priors\n",
    "#     sig_zipcode = pm.Exponential(\"sig_zipcode\", 1)\n",
    "#     sig = pm.Exponential(\"sig\", 1)\n",
    "    \n",
    "#     # Hierarchical coefficients\n",
    "#     mu_state = pm.Normal(\"mu_state\", mu_country, sig_country, dims=\"state\")\n",
    "#     mu_zipcode = pm.Normal(\"mu_zipcode\", mu_state, sig_zipcode, dims=(\"zipcode\", \"state\"))\n",
    "    \n",
    "#     # Observational model\n",
    "#     y = pm.Normal(\"y\", mu_zipcode[zip_, state_], sig, observed=df.y)\n",
    "    \n",
    "#     # Fit\n",
    "#     trace = pm.sample(target_accept=0.9, return_inferencedata=True, random_seed=SEED)"
   ]
  },
  {
   "cell_type": "markdown",
   "id": "c6095e44",
   "metadata": {},
   "source": [
    "The model above had some difficulties sampling, so we'll try a noncentered parameterization"
   ]
  },
  {
   "cell_type": "code",
   "execution_count": 9,
   "id": "6d4527b0",
   "metadata": {},
   "outputs": [
    {
     "name": "stderr",
     "output_type": "stream",
     "text": [
      "Auto-assigning NUTS sampler...\n",
      "Initializing NUTS using jitter+adapt_diag...\n",
      "Multiprocess sampling (4 chains in 4 jobs)\n",
      "NUTS: [σ_mu_zipcode, Δ_mu_zipcode, σ_mu_state, Δ_mu_state, sig, mu_country]\n"
     ]
    },
    {
     "data": {
      "text/html": [
       "\n",
       "    <div>\n",
       "        <style>\n",
       "            /* Turns off some styling */\n",
       "            progress {\n",
       "                /* gets rid of default border in Firefox and Opera. */\n",
       "                border: none;\n",
       "                /* Needs to be in here for Safari polyfill so background images work as expected. */\n",
       "                background-size: auto;\n",
       "            }\n",
       "            .progress-bar-interrupted, .progress-bar-interrupted::-webkit-progress-bar {\n",
       "                background: #F44336;\n",
       "            }\n",
       "        </style>\n",
       "      <progress value='8000' class='' max='8000' style='width:300px; height:20px; vertical-align: middle;'></progress>\n",
       "      100.00% [8000/8000 00:48<00:00 Sampling 4 chains, 0 divergences]\n",
       "    </div>\n",
       "    "
      ],
      "text/plain": [
       "<IPython.core.display.HTML object>"
      ]
     },
     "metadata": {},
     "output_type": "display_data"
    },
    {
     "name": "stderr",
     "output_type": "stream",
     "text": [
      "Sampling 4 chains for 1_000 tune and 1_000 draw iterations (4_000 + 4_000 draws total) took 60 seconds.\n",
      "The number of effective samples is smaller than 25% for some parameters.\n"
     ]
    }
   ],
   "source": [
    "def hierarchical_normal(name, μ, dims):\n",
    "    '''Adapted from Austin Rochford'''\n",
    "    Δ = pm.Normal('Δ_{}'.format(name), 0., 1., dims=dims)\n",
    "    σ = pm.Exponential('σ_{}'.format(name), 2.5)\n",
    "    return pm.Deterministic(name, μ + Δ * σ, dims=dims)\n",
    "\n",
    "\n",
    "with pm.Model(coords=coords) as model_nc:\n",
    "    \n",
    "    # Observed Data tracking\n",
    "    state_ = pm.Data(\"state_\", df.state.cat.codes)\n",
    "    zip_ = pm.Data(\"zip_\", df.zipcode.cat.codes)\n",
    "    obs = pm.Data(\"obs\", df.y)\n",
    "\n",
    "    # Hyperprior\n",
    "    mu_country = pm.Normal(\"mu_country\", 0, 1)\n",
    "    \n",
    "    # Prior\n",
    "    sig = pm.Exponential(\"sig\", 1)\n",
    "    \n",
    "    # Hierarchical coefficients\n",
    "    mu_state = hierarchical_normal(\"mu_state\", μ=mu_country, dims=\"state\")\n",
    "    mu_zipcode = hierarchical_normal(\"mu_zipcode\", μ=mu_state, dims=(\"zipcode\", \"state\") )\n",
    "    \n",
    "    # Observational model\n",
    "    y = pm.Normal(\"y\", mu_zipcode[zip_, state_], sig, observed=obs)\n",
    "    \n",
    "    # Fit \n",
    "    trace_nc = pm.sample(target_accept=0.9, return_inferencedata=True, random_seed=SEED)"
   ]
  },
  {
   "cell_type": "markdown",
   "id": "fe5cd328",
   "metadata": {},
   "source": [
    "Let's take a peak at at the state level coefficients"
   ]
  },
  {
   "cell_type": "code",
   "execution_count": 10,
   "id": "f4f1174b",
   "metadata": {},
   "outputs": [
    {
     "data": {
      "text/plain": [
       "array([<AxesSubplot:title={'center':'94.0% HDI'}>], dtype=object)"
      ]
     },
     "execution_count": 10,
     "metadata": {},
     "output_type": "execute_result"
    },
    {
     "data": {
      "image/png": "[encoded data removed]",
      "text/plain": [
       "<Figure size 432x604.8 with 1 Axes>"
      ]
     },
     "metadata": {
      "needs_background": "light"
     },
     "output_type": "display_data"
    }
   ],
   "source": [
    "pm.plot_forest(trace_nc, var_names=[\"mu_state\"])"
   ]
  },
  {
   "cell_type": "markdown",
   "id": "8c22f6e0",
   "metadata": {},
   "source": [
    "Great, that `out of sample` variable seems to represent the global distribution across states - i.e. if we were to make a prediction for a new state we'd use that distribtion. We should still confirm it to be safe\n",
    "\n",
    "We'll check for zip codes below as well, looking at Maine specifically"
   ]
  },
  {
   "cell_type": "code",
   "execution_count": 11,
   "id": "75cb5458",
   "metadata": {
    "scrolled": false
   },
   "outputs": [
    {
     "data": {
      "image/png": "[encoded data removed]",
      "text/plain": [
       "<Figure size 432x748.8 with 1 Axes>"
      ]
     },
     "metadata": {
      "needs_background": "light"
     },
     "output_type": "display_data"
    }
   ],
   "source": [
    "ME_zips = df.loc[lambda d: d.state==\"ME\"].zipcode.tolist() + [\"out_of_sample\"]\n",
    "pm.plot_forest(trace_nc, var_names=[\"mu_zipcode\"],\n",
    "              coords={\"state\":[\"ME\"], \"zipcode\":np.unique( ME_zips )});"
   ]
  },
  {
   "cell_type": "markdown",
   "id": "ebd88299",
   "metadata": {},
   "source": [
    "As we can see, the `out_of_sample` variable has a sampled value despite there being no observed data for it\n",
    "\n",
    "Now the question is, does this align with how we'd predict new data?\n",
    "\n",
    "Let's try calculating coefficients out of sample by hand and see if it aligns with the `out_of_sample` values"
   ]
  },
  {
   "cell_type": "code",
   "execution_count": 12,
   "id": "ca979ea0",
   "metadata": {},
   "outputs": [],
   "source": [
    "post = trace_nc.posterior\n",
    "\n",
    "# Calculate out of sample state means by drawing from global distribution\n",
    "mu_country = post[\"mu_country\"].values.reshape(4000,-1)\n",
    "σ_state = post[\"σ_mu_state\"].values.reshape(4000,-1)\n",
    "mu_state = np.random.normal(mu_country, σ_state)\n",
    "\n",
    "# calculate out of sample mu by drawing from out of sample state prediction above\n",
    "σ_zipcode = post[\"σ_mu_zipcode\"].values.reshape(4000,-1)\n",
    "mu_zipcode = np.random.normal(mu_state, σ_zipcode)"
   ]
  },
  {
   "cell_type": "code",
   "execution_count": 13,
   "id": "47ed22e0",
   "metadata": {},
   "outputs": [
    {
     "data": {
      "image/png": "[encoded data removed]",
      "text/plain": [
       "<Figure size 720x504 with 2 Axes>"
      ]
     },
     "metadata": {
      "needs_background": "light"
     },
     "output_type": "display_data"
    }
   ],
   "source": [
    "# Plot comparison\n",
    "fig, ax = plt.subplots(2,1,figsize=(10,7),sharex=True)\n",
    "\n",
    "# Plot 1\n",
    "ax[0].set_title(\"out of sample state estimate compared to indexing trick\")\n",
    "\n",
    "# Ground truth\n",
    "sns.histplot( mu_state_true.random(size=4000), \n",
    "             alpha=0.5, \n",
    "             color=\"C2\",\n",
    "             label=\"True Value\",\n",
    "             stat=\"probability\",\n",
    "            ax=ax[0])\n",
    "\n",
    "# Manual calculation from fitted model\n",
    "sns.histplot( mu_state.ravel(), \n",
    "             alpha=0.5, \n",
    "             label=\"Manual Prediction\",\n",
    "             stat=\"probability\",\n",
    "            ax=ax[0]);\n",
    "\n",
    "# Indexing trick\n",
    "sns.histplot( post[\"mu_state\"].sel({\"state\":[\"out_of_sample\"]}).values.ravel(), \n",
    "             alpha=0.5, \n",
    "             color=\"C1\", \n",
    "             label=\"Indexing Trick Prediction\",\n",
    "             stat=\"probability\",\n",
    "            ax=ax[0])\n",
    "ax[0].legend()\n",
    "\n",
    "\n",
    "# Plot 2\n",
    "ax[1].set_title(\"out of sample zipcode estimate compared to indexing trick\")\n",
    "\n",
    "# Ground truth\n",
    "sns.histplot( pm.Normal.dist(mu_state_true.random(size=4000), sig_zip_true).random(size=4000), \n",
    "             alpha=0.5, \n",
    "             color=\"C2\",\n",
    "             label=\"True Value\",\n",
    "             stat=\"probability\",\n",
    "            ax=ax[1])\n",
    "\n",
    "# Manual calculation from fitted model\n",
    "sns.histplot( mu_zipcode.ravel(), \n",
    "             alpha=0.5, \n",
    "             label=\"Manual Prediction\",\n",
    "             stat=\"probability\",\n",
    "            ax=ax[1])\n",
    "\n",
    "# Indexing trick\n",
    "sns.histplot( post[\"mu_zipcode\"].sel({\"state\":[\"out_of_sample\"], \"zipcode\":[\"out_of_sample\"]}).values.ravel(), \n",
    "             alpha=0.5, \n",
    "             color=\"C1\", \n",
    "             label=\"Indexing Trick Prediction\",\n",
    "             stat=\"probability\",\n",
    "            ax=ax[1])\n",
    "ax[1].legend()\n",
    "ax[0].set_xlabel(\"coef value\")\n",
    "ax[1].set_xlabel(\"coef value\")\n",
    "plt.show()"
   ]
  },
  {
   "cell_type": "markdown",
   "id": "7649fc25",
   "metadata": {},
   "source": [
    "As we can see above, the indexing trick recovers the true parameters - this can make prediction MUCH easier, especially if we change model paramaterization"
   ]
  },
  {
   "cell_type": "markdown",
   "id": "713a4d2e",
   "metadata": {},
   "source": [
    "# Predicting out of sample\n",
    "\n",
    "Let's go ahead and actually make prediction now - we'll make predictions for the following data below\n",
    " * The first example is in sample\n",
    " * The second example is in sample for state, out of sample for zipcode\n",
    " * The third example is out of sample entirely"
   ]
  },
  {
   "cell_type": "code",
   "execution_count": 14,
   "id": "cb533529",
   "metadata": {},
   "outputs": [
    {
     "data": {
      "text/html": [
       "<div>\n",
       "<style scoped>\n",
       "    .dataframe tbody tr th:only-of-type {\n",
       "        vertical-align: middle;\n",
       "    }\n",
       "\n",
       "    .dataframe tbody tr th {\n",
       "        vertical-align: top;\n",
       "    }\n",
       "\n",
       "    .dataframe thead th {\n",
       "        text-align: right;\n",
       "    }\n",
       "</style>\n",
       "<table border=\"1\" class=\"dataframe\">\n",
       "  <thead>\n",
       "    <tr style=\"text-align: right;\">\n",
       "      <th></th>\n",
       "      <th>state</th>\n",
       "      <th>zipcode</th>\n",
       "    </tr>\n",
       "  </thead>\n",
       "  <tbody>\n",
       "    <tr>\n",
       "      <th>0</th>\n",
       "      <td>ME</td>\n",
       "      <td>61756</td>\n",
       "    </tr>\n",
       "    <tr>\n",
       "      <th>1</th>\n",
       "      <td>NY</td>\n",
       "      <td>10017</td>\n",
       "    </tr>\n",
       "    <tr>\n",
       "      <th>2</th>\n",
       "      <td>OH</td>\n",
       "      <td>30130</td>\n",
       "    </tr>\n",
       "  </tbody>\n",
       "</table>\n",
       "</div>"
      ],
      "text/plain": [
       "  state zipcode\n",
       "0    ME   61756\n",
       "1    NY   10017\n",
       "2    OH   30130"
      ]
     },
     "execution_count": 14,
     "metadata": {},
     "output_type": "execute_result"
    }
   ],
   "source": [
    "X = pd.DataFrame({\n",
    "    \"state\":[df.iloc[0][\"state\"], \"NY\", \"OH\"],\n",
    "    \"zipcode\":[df.iloc[0][\"zipcode\"], \"10017\", \"30130\"],\n",
    "    \"type\":[\"in sample\", \"state in sample\\nzipcode out of sample\", \"out of sample\"]\n",
    "})\n",
    "\n",
    "X.iloc[:,:2]"
   ]
  },
  {
   "cell_type": "markdown",
   "id": "d4dac1b8",
   "metadata": {},
   "source": [
    "We're making some quick convenience functions to map this new data to the proper indexes from the fitted model"
   ]
  },
  {
   "cell_type": "code",
   "execution_count": 15,
   "id": "72a047fa",
   "metadata": {},
   "outputs": [],
   "source": [
    "# Helper functions\n",
    "zip_lookup = dict(zip(df.zipcode.cat.categories, range(len(df.zipcode.cat.categories))))\n",
    "state_lookup = dict(zip(df.state.cat.categories, range(len(df.state.cat.categories))))\n",
    "\n",
    "def labels_to_index(series, lookup):\n",
    "    '''Converts categories to their proper codes'''\n",
    "    series = series.copy()\n",
    "    in_sample = series.isin(lookup.keys())\n",
    "    series.loc[~in_sample] = \"out_of_sample\"\n",
    "    return series.map(lookup).values.astype(\"int8\")"
   ]
  },
  {
   "cell_type": "markdown",
   "id": "981d7f99",
   "metadata": {},
   "source": [
    "And finally we'll use the model to make predictions on this new data "
   ]
  },
  {
   "cell_type": "code",
   "execution_count": 16,
   "id": "0ee0dc09",
   "metadata": {},
   "outputs": [
    {
     "data": {
      "text/html": [
       "\n",
       "    <div>\n",
       "        <style>\n",
       "            /* Turns off some styling */\n",
       "            progress {\n",
       "                /* gets rid of default border in Firefox and Opera. */\n",
       "                border: none;\n",
       "                /* Needs to be in here for Safari polyfill so background images work as expected. */\n",
       "                background-size: auto;\n",
       "            }\n",
       "            .progress-bar-interrupted, .progress-bar-interrupted::-webkit-progress-bar {\n",
       "                background: #F44336;\n",
       "            }\n",
       "        </style>\n",
       "      <progress value='4000' class='' max='4000' style='width:300px; height:20px; vertical-align: middle;'></progress>\n",
       "      100.00% [4000/4000 00:40<00:00]\n",
       "    </div>\n",
       "    "
      ],
      "text/plain": [
       "<IPython.core.display.HTML object>"
      ]
     },
     "metadata": {},
     "output_type": "display_data"
    }
   ],
   "source": [
    "with model_nc:\n",
    "    # Set new data for the model to make predictions on\n",
    "    pm.set_data({\n",
    "        \"state_\": X.state.pipe(labels_to_index, state_lookup),\n",
    "        \"zip_\": X.zipcode.pipe(labels_to_index, zip_lookup)\n",
    "    })\n",
    "    \n",
    "    # make predictions\n",
    "    preds = pm.sample_posterior_predictive(trace_nc)"
   ]
  },
  {
   "cell_type": "code",
   "execution_count": 17,
   "id": "da3b9bf0",
   "metadata": {},
   "outputs": [
    {
     "data": {
      "text/plain": [
       "Text(0.5, 0, 'mu_zipcode')"
      ]
     },
     "execution_count": 17,
     "metadata": {},
     "output_type": "execute_result"
    },
    {
     "data": {
      "image/png": "[encoded data removed]",
      "text/plain": [
       "<Figure size 432x453.6 with 1 Axes>"
      ]
     },
     "metadata": {
      "needs_background": "light"
     },
     "output_type": "display_data"
    }
   ],
   "source": [
    "# Rearrange predictions to make plot more readable\n",
    "pred_dct = {}\n",
    "for i in range(len(X)):\n",
    "    zipc = X.iloc[i][\"zipcode\"]\n",
    "    name = X.iloc[i][\"type\"]\n",
    "    pred_dct[f\"zip[{zipc}]\\n\"+name] = preds[\"y\"].T[i]\n",
    "\n",
    "# Plot predictions\n",
    "pm.plot_forest(pred_dct)\n",
    "plt.xlabel(\"mu_zipcode\", fontsize=14)"
   ]
  },
  {
   "cell_type": "markdown",
   "id": "4be08fed",
   "metadata": {},
   "source": [
    "Notice how in sample predictions have smaller uncertainty intervals - this is great, its now much easier to make predictions compared to having to write out a custom prediction function that follows the same logic as the model"
   ]
  }
 ],
 "metadata": {
  "kernelspec": {
   "display_name": "Python 3 (ipykernel)",
   "language": "python",
   "name": "python3"
  },
  "language_info": {
   "codemirror_mode": {
    "name": "ipython",
    "version": 3
   },
   "file_extension": ".py",
   "mimetype": "text/x-python",
   "name": "python",
   "nbconvert_exporter": "python",
   "pygments_lexer": "ipython3",
   "version": "3.9.7"
  }
 },
 "nbformat": 4,
 "nbformat_minor": 5
}
